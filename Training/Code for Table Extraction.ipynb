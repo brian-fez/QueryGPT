{
 "cells": [
  {
   "cell_type": "markdown",
   "id": "f5617d64",
   "metadata": {},
   "source": [
    "#### Part that can be used for extractions. Tell the llm to write the query. Use the sql cmd generated from the llm to query the db to get an extraction (table) not only a single answer."
   ]
  },
  {
   "cell_type": "code",
   "execution_count": 1,
   "id": "2635cf87",
   "metadata": {},
   "outputs": [],
   "source": [
    "from langchain_ollama import OllamaLLM\n",
    "from langchain.utilities import SQLDatabase\n",
    "from langchain_experimental.sql import SQLDatabaseChain"
   ]
  },
  {
   "cell_type": "code",
   "execution_count": 2,
   "id": "e98395da",
   "metadata": {},
   "outputs": [],
   "source": [
    "\n",
    "llm = OllamaLLM(model=\"sqlcoder\", temperature=0)   # best model at the moment defog_sqlcoder-7b-2\n"
   ]
  },
  {
   "cell_type": "code",
   "execution_count": 3,
   "id": "68ab3a43",
   "metadata": {},
   "outputs": [],
   "source": [
    "db_user = \"root\"\n",
    "db_password = \"1234\"\n",
    "db_host = \"localhost\"\n",
    "db_name = \"atliq_tshirts\"\n",
    "\n",
    "db = SQLDatabase.from_uri(\n",
    "    f\"mysql+pymysql://{db_user}:{db_password}@{db_host}/{db_name}\",\n",
    "    sample_rows_in_table_info=3\n",
    ")"
   ]
  },
  {
   "cell_type": "code",
   "execution_count": 4,
   "id": "94e2bdc1",
   "metadata": {},
   "outputs": [
    {
     "name": "stdout",
     "output_type": "stream",
     "text": [
      "\n",
      "\n",
      "\u001b[1m> Entering new SQLDatabaseChain chain...\u001b[0m\n",
      "Extract all rows where brand is Levi\n",
      "SQLQuery:\u001b[32;1m\u001b[1;3mSELECT * FROM t_shirts WHERE brand = 'Levi'\u001b[0m\n",
      "SQLResult: \u001b[33;1m\u001b[1;3m[(29, 'Levi', 'Red', 'XS', 45, 74), (51, 'Levi', 'Red', 'M', 31, 98), (11, 'Levi', 'Red', 'XL', 16, 96), (37, 'Levi', 'Blue', 'XS', 10, 49), (32, 'Levi', 'Blue', 'M', 21, 24), (90, 'Levi', 'Blue', 'XL', 25, 33), (36, 'Levi', 'Black', 'S', 49, 71), (88, 'Levi', 'Black', 'M', 14, 95), (12, 'Levi', 'Black', 'L', 47, 61), (27, 'Levi', 'White', 'XS', 34, 72), (31, 'Levi', 'White', 'S', 23, 51), (78, 'Levi', 'White', 'M', 21, 85), (57, 'Levi', 'White', 'L', 47, 60)]\u001b[0m\n",
      "Answer:\u001b[32;1m\u001b[1;3mLevi shirts are available in all sizes.\u001b[0m\n",
      "\u001b[1m> Finished chain.\u001b[0m\n",
      "SQL Query: SELECT * FROM t_shirts WHERE brand = 'Levi'\n",
      "✅ Excel file saved as: levi_tshirts.xlsx\n"
     ]
    }
   ],
   "source": [
    "db_chain1 = SQLDatabaseChain.from_llm(llm, db, verbose=True, return_intermediate_steps=True)\n",
    "\n",
    "response = db_chain1.invoke(\"Extract all rows where brand is Levi\")\n",
    "response[\"intermediate_steps\"]\n",
    "\n",
    "def extract_sql_cmd(intermediate_steps):\n",
    "    for step in intermediate_steps:\n",
    "        # Case 1: dictionary with key 'sql_cmd'\n",
    "        if isinstance(step, dict) and 'sql_cmd' in step:\n",
    "            return step['sql_cmd']\n",
    "        # Case 2: string that looks like an SQL query\n",
    "        if isinstance(step, str) and step.strip().lower().startswith(\"select\"):\n",
    "            return step\n",
    "    return None  # fallback if not found\n",
    "\n",
    "# Example usage\n",
    "sql_cmd = extract_sql_cmd(response[\"intermediate_steps\"])\n",
    "print(\"SQL Query:\", sql_cmd)\n",
    "\n",
    "\n",
    "\"\"\"def extract_sql_result(intermediate_steps):\n",
    "    for step in intermediate_steps:\n",
    "        if isinstance(step, str) and step.startswith(\"[(\"):  # likely a result set\n",
    "            return step\n",
    "    return None\n",
    "\n",
    "sql_result = extract_sql_result(response[\"intermediate_steps\"])\n",
    "print(\"SQL Result:\", sql_result)\"\"\"\n",
    "\n",
    "\n",
    "import pandas as pd\n",
    "from sqlalchemy import create_engine\n",
    "engine = create_engine(f\"mysql+pymysql://{db_user}:{db_password}@{db_host}/{db_name}\")\n",
    "df = pd.read_sql(sql_cmd, engine)\n",
    "\n",
    "# --- Step 5: Save to Excel ---\n",
    "output_file = \"levi_tshirts.xlsx\"\n",
    "df.to_excel(output_file, index=False)\n",
    "\n",
    "print(f\"✅ Excel file saved as: {output_file}\")\n",
    "\n"
   ]
  }
 ],
 "metadata": {
  "kernelspec": {
   "display_name": ".venv",
   "language": "python",
   "name": "python3"
  },
  "language_info": {
   "codemirror_mode": {
    "name": "ipython",
    "version": 3
   },
   "file_extension": ".py",
   "mimetype": "text/x-python",
   "name": "python",
   "nbconvert_exporter": "python",
   "pygments_lexer": "ipython3",
   "version": "3.10.2"
  }
 },
 "nbformat": 4,
 "nbformat_minor": 5
}
